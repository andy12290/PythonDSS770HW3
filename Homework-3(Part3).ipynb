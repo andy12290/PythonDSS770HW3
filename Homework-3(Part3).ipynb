{
 "cells": [
  {
   "cell_type": "markdown",
   "metadata": {},
   "source": [
    "# Pages 111-117 , odd examples"
   ]
  },
  {
   "cell_type": "code",
   "execution_count": 1,
   "metadata": {
    "collapsed": false
   },
   "outputs": [
    {
     "name": "stdout",
     "output_type": "stream",
     "text": [
      "Enter -1 to terminate\n",
      "Enter positive number100\n",
      "total 100\n",
      "Enter positive number-1\n",
      "total 99\n"
     ]
    }
   ],
   "source": [
    "total = 0\n",
    "print(\"Enter -1 to terminate\")\n",
    "num = 0\n",
    "while num != -1:\n",
    "    num = eval(input(\"Enter positive number\"))\n",
    "    total += num\n",
    "    print(\"total\", total)\n",
    "    "
   ]
  },
  {
   "cell_type": "code",
   "execution_count": 2,
   "metadata": {
    "collapsed": false
   },
   "outputs": [
    {
     "name": "stdout",
     "output_type": "stream",
     "text": [
      "17\n"
     ]
    }
   ],
   "source": [
    "num = 3\n",
    "while True:\n",
    "    num = 2+ num\n",
    "    if num > 15:\n",
    "        break\n",
    "print(num)  "
   ]
  },
  {
   "cell_type": "code",
   "execution_count": 3,
   "metadata": {
    "collapsed": false
   },
   "outputs": [
    {
     "name": "stdout",
     "output_type": "stream",
     "text": [
      "2\n",
      "[4, 7, 8]\n",
      "6\n",
      "[7, 8]\n",
      "13\n",
      "[8]\n",
      "21\n",
      "[]\n",
      "21\n"
     ]
    }
   ],
   "source": [
    "list1 = [2,4,7,8]\n",
    "total = 0\n",
    "while list1:\n",
    "    total += list1[0]\n",
    "    print(total)\n",
    "    list1 = list1[1:]\n",
    "    print(list1)\n",
    "print(total)    "
   ]
  },
  {
   "cell_type": "code",
   "execution_count": 4,
   "metadata": {
    "collapsed": false
   },
   "outputs": [
    {
     "name": "stdout",
     "output_type": "stream",
     "text": [
      "a\n",
      "1\n",
      "b\n",
      "2\n",
      "c\n",
      "3\n",
      "d\n",
      "4\n"
     ]
    }
   ],
   "source": [
    "list1 = ['a', 'b', 'c', 'd']\n",
    "i = 0\n",
    "while True:\n",
    "    print(list1[i])\n",
    "    i = i + 1\n",
    "    print(i)\n",
    "    if i == len(list1):\n",
    "         break"
   ]
  },
  {
   "cell_type": "code",
   "execution_count": 5,
   "metadata": {
    "collapsed": false
   },
   "outputs": [
    {
     "name": "stdout",
     "output_type": "stream",
     "text": [
      "2\n",
      "4\n",
      "6\n",
      "8\n",
      "10\n",
      "12\n",
      "14\n",
      "16\n",
      "18\n",
      "20\n",
      "20\n"
     ]
    }
   ],
   "source": [
    "num = 0\n",
    "while True:\n",
    "    num = num + 2\n",
    "    print(num)\n",
    "    if num >= 20:\n",
    "        break\n",
    "print(num)"
   ]
  },
  {
   "cell_type": "code",
   "execution_count": 6,
   "metadata": {
    "collapsed": false
   },
   "outputs": [
    {
     "name": "stdout",
     "output_type": "stream",
     "text": [
      "Enter a name: Aniket\n",
      "Enter a name: kale\n",
      "Enter a name: devidas\n"
     ]
    }
   ],
   "source": [
    "# clear Code using While Loops\n",
    "n = 0\n",
    "while True:\n",
    "    name = input(\"Enter a name: \")\n",
    "    n  = n + 1\n",
    "    if n == 3:\n",
    "        break"
   ]
  },
  {
   "cell_type": "code",
   "execution_count": 7,
   "metadata": {
    "collapsed": false
   },
   "outputs": [
    {
     "name": "stdout",
     "output_type": "stream",
     "text": [
      "Enter a temprature in cel: 40\n",
      "Temparure in Far 104.0\n",
      "Enter a temprature in cel: 23\n",
      "Temparure in Far 73.4\n",
      "Enter a temprature in cel: 45\n",
      "Temparure in Far 113.0\n"
     ]
    }
   ],
   "source": [
    "# Clear code by using while Loops\n",
    "n = 0\n",
    "while True:\n",
    "    a = eval(input(\"Enter a temprature in cel: \"))\n",
    "    f = ((9/5*a) + 32)\n",
    "    print(\"Temparure in Far\", f)\n",
    "    n  = n + 1\n",
    "    if n == 3:\n",
    "        break"
   ]
  },
  {
   "cell_type": "code",
   "execution_count": 8,
   "metadata": {
    "collapsed": false
   },
   "outputs": [
    {
     "name": "stdout",
     "output_type": "stream",
     "text": [
      "current year: 1990\n",
      "in the Year: 2004\n",
      "Pearson will be in 2004 59\n"
     ]
    }
   ],
   "source": [
    "num = eval(input(\"current year: \"))\n",
    "year = eval(input(\"in the Year: \"))\n",
    "n = (year-num)\n",
    "print(\"Pearson will be in\", year, 45+n )"
   ]
  },
  {
   "cell_type": "code",
   "execution_count": 9,
   "metadata": {
    "collapsed": false
   },
   "outputs": [
    {
     "name": "stdout",
     "output_type": "stream",
     "text": [
      "Enter an element in grams :100\n",
      "elemetns in Gram 50.0\n",
      "elemetns in Gram 25.0\n",
      "elemetns in Gram 12.5\n",
      "elemetns in Gram 6.25\n",
      "elemetns in Gram 3.125\n",
      "elemetns in Gram 1.5625\n",
      "elemetns in Gram 0.78125\n"
     ]
    }
   ],
   "source": [
    "n  = eval(input(\"Enter an element in grams :\"))    \n",
    "while True:\n",
    "    n = n/2\n",
    "    print(\"elemetns in Gram\", n)\n",
    "    if n < 1:\n",
    "        break\n"
   ]
  },
  {
   "cell_type": "raw",
   "metadata": {
    "collapsed": true
   },
   "source": [
    "b = 0\n",
    "n  = eval(input(\"Enter an Deposite AMount :\"))\n",
    "while True:\n",
    "      b = 1.003*(n) -600\n",
    "print(\"balance at the end of Month\")    "
   ]
  },
  {
   "cell_type": "raw",
   "metadata": {},
   "source": [
    "# code for the amount\n",
    "\n",
    "print(\"Option 1 Make Deposit\")\n",
    "print(\"Option 2 withdrawn\")\n",
    "print(\"Option 3 obtain balance\")\n",
    "print(\"Option 4 quit\")\n",
    "d = eval(input(\"Enter option :\"))\n",
    "while True:\n",
    "    \n",
    "    if d == 1:\n",
    "        x = eval(input(\"Enter amount :\"))\n",
    "    print(\"amount :\", x) \n",
    "    if d == 2:\n",
    "        w = eval((input(\"withdrawn :\")))\n",
    "    if w > 500:\n",
    "        c = d-w\n",
    "        print(c)\n",
    "    else:\n",
    "        print(\"cannot process amount > 500\")\n",
    "    if d == 3:\n",
    "        z = x - c\n",
    "    print(\"amount or balance\",z)\n",
    "    if d == 4:\n",
    "        break"
   ]
  },
  {
   "cell_type": "code",
   "execution_count": null,
   "metadata": {
    "collapsed": true
   },
   "outputs": [],
   "source": [
    "count = 0\n",
    "n = 0\n",
    "china = 13700000000\n",
    "india = 12600000000\n",
    "while True:\n",
    "    china = 1.0051* china\n",
    "    count = count + 1\n",
    "    india = 1.013 * india\n",
    "    n = n + 1\n",
    "    if "
   ]
  },
  {
   "cell_type": "code",
   "execution_count": null,
   "metadata": {
    "collapsed": true
   },
   "outputs": [],
   "source": []
  }
 ],
 "metadata": {
  "anaconda-cloud": {},
  "kernelspec": {
   "display_name": "Python [Root]",
   "language": "python",
   "name": "Python [Root]"
  },
  "language_info": {
   "codemirror_mode": {
    "name": "ipython",
    "version": 3
   },
   "file_extension": ".py",
   "mimetype": "text/x-python",
   "name": "python",
   "nbconvert_exporter": "python",
   "pygments_lexer": "ipython3",
   "version": "3.5.3"
  }
 },
 "nbformat": 4,
 "nbformat_minor": 0
}
