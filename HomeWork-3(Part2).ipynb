{
 "cells": [
  {
   "cell_type": "markdown",
   "metadata": {},
   "source": [
    "# Pages 98 to 104 odd example continue "
   ]
  },
  {
   "cell_type": "code",
   "execution_count": 1,
   "metadata": {
    "collapsed": false
   },
   "outputs": [
    {
     "name": "stdout",
     "output_type": "stream",
     "text": [
      "Enter widget Amount: 200\n",
      "big widget 80.0\n"
     ]
    }
   ],
   "source": [
    "order = int(input(\"Enter widget Amount: \"))\n",
    "if order <= 100:\n",
    "    print(\"widget\", 0.25*order)\n",
    "else:\n",
    "    n = 0\n",
    "    n = order/100 \n",
    "    print(\"big widget\", n * (0.20*order))"
   ]
  },
  {
   "cell_type": "code",
   "execution_count": 2,
   "metadata": {
    "collapsed": false
   },
   "outputs": [
    {
     "name": "stdout",
     "output_type": "stream",
     "text": [
      "Who was the first Ronald Mcdonald: Willard scoot\n",
      "try another time\n"
     ]
    }
   ],
   "source": [
    "quiz = input(\"Who was the first Ronald Mcdonald: \")\n",
    "if (quiz) == \"Willard scott\":\n",
    "        print('you are correct')\n",
    "else:\n",
    "        print(\"try another time\")\n",
    "    "
   ]
  },
  {
   "cell_type": "code",
   "execution_count": 3,
   "metadata": {
    "collapsed": false
   },
   "outputs": [
    {
     "name": "stdout",
     "output_type": "stream",
     "text": [
      "first score: 1\n",
      "Second score: 2\n",
      "Third score: 3\n",
      "Highest Average of score: 2.0\n"
     ]
    }
   ],
   "source": [
    "a = int(input(\"first score: \"))\n",
    "b = int(input(\"Second score: \"))\n",
    "c = int(input(\"Third score: \"))\n",
    " \n",
    "d = ((a+b+c)/3)\n",
    "\n",
    "\n",
    "print(\"Highest Average of score:\", d)\n",
    " "
   ]
  },
  {
   "cell_type": "code",
   "execution_count": 4,
   "metadata": {
    "collapsed": false
   },
   "outputs": [
    {
     "name": "stdout",
     "output_type": "stream",
     "text": [
      "number of pounds: 2\n",
      "Cash recieved $: 10\n",
      "change -5\n"
     ]
    }
   ],
   "source": [
    "a = int(input(\"number of pounds: \"))\n",
    "b = int(input(\"Cash recieved $: \"))\n",
    "c = int((2.50*a)- b)\n",
    "if c == -c:\n",
    "    print(\"you owed $:\", c)\n",
    "else:\n",
    "     print(\"change\", c)   \n",
    "        \n",
    "        "
   ]
  },
  {
   "cell_type": "code",
   "execution_count": 5,
   "metadata": {
    "collapsed": false
   },
   "outputs": [
    {
     "name": "stdout",
     "output_type": "stream",
     "text": [
      "Enter any string: sd\n",
      "not upper\n"
     ]
    }
   ],
   "source": [
    "a = input(\"Enter any string: \")\n",
    "if a.isupper():\n",
    "    print(\" input is Uppercase\")\n",
    "else:\n",
    "    print('not upper')\n",
    "    "
   ]
  },
  {
   "cell_type": "code",
   "execution_count": 10,
   "metadata": {
    "collapsed": false
   },
   "outputs": [
    {
     "name": "stdout",
     "output_type": "stream",
     "text": [
      "Enter Annual interest rate: 2\n",
      "Enter nubmer of compound periods for bank: 2.67\n",
      "Enter Annual interest rate for bank 2: 4\n",
      "Enter nubmer of compound periods for bank 2: 52\n",
      "APY for bank 1: 3.4492929683914575\n",
      "APY for bank 2: 46.163229454026364\n",
      "bank 2 is better than 1\n"
     ]
    }
   ],
   "source": [
    "# interest rate\n",
    "a = eval(input(\"Enter Annual interest rate: \"))\n",
    "b = eval(input(\"Enter nubmer of compound periods for bank: \"))\n",
    "c = eval(input(\"Enter Annual interest rate for bank 2: \"))\n",
    "d = eval(input(\"Enter nubmer of compound periods for bank 2: \"))\n",
    "x = a/b\n",
    "f = ((1+x)**b)\n",
    "z = f-1\n",
    "print(\"APY for bank 1:\", z)\n",
    "y = c/d\n",
    "n = ((1+y)**d)\n",
    "n = n-1\n",
    "print(\"APY for bank 2:\", n)\n",
    "\n",
    "if z > n:\n",
    "    print(\"bank 1 is better than 2\")\n",
    "else:\n",
    "    print(\"bank 2 is better than 1\")"
   ]
  },
  {
   "cell_type": "code",
   "execution_count": null,
   "metadata": {
    "collapsed": true
   },
   "outputs": [],
   "source": []
  }
 ],
 "metadata": {
  "anaconda-cloud": {},
  "kernelspec": {
   "display_name": "Python [Root]",
   "language": "python",
   "name": "Python [Root]"
  },
  "language_info": {
   "codemirror_mode": {
    "name": "ipython",
    "version": 3
   },
   "file_extension": ".py",
   "mimetype": "text/x-python",
   "name": "python",
   "nbconvert_exporter": "python",
   "pygments_lexer": "ipython3",
   "version": "3.5.3"
  }
 },
 "nbformat": 4,
 "nbformat_minor": 0
}
