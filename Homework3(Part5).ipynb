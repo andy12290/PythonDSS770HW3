{
 "cells": [
  {
   "cell_type": "markdown",
   "metadata": {},
   "source": [
    "* Name: Aniket Kale\n",
    "* Programming projects    "
   ]
  },
  {
   "cell_type": "code",
   "execution_count": 1,
   "metadata": {
    "collapsed": false
   },
   "outputs": [
    {
     "name": "stdout",
     "output_type": "stream",
     "text": [
      "Enter a string: aniket\n",
      "string is not palindrome\n"
     ]
    }
   ],
   "source": [
    "# palindrome Example\n",
    "a = input(\"Enter a string: \")\n",
    "list1 = str(a)\n",
    "rev = reversed(list1)\n",
    "if list(list1) == list(rev):\n",
    "    Print(\"string is palindrome\")\n",
    "else:\n",
    "    print(\"string is not palindrome\")       "
   ]
  },
  {
   "cell_type": "markdown",
   "metadata": {},
   "source": [
    "# Testing palindrome case"
   ]
  },
  {
   "cell_type": "code",
   "execution_count": 2,
   "metadata": {
    "collapsed": false
   },
   "outputs": [
    {
     "name": "stdout",
     "output_type": "stream",
     "text": [
      "Enter a string: rar\n",
      "string is palindrome\n"
     ]
    }
   ],
   "source": [
    "a = input(\"Enter a string: \")\n",
    "list1 = str(a)\n",
    "list1 = list1.casefold()\n",
    "rev = reversed(list1)\n",
    "if list(list1) == list(rev):\n",
    "    print(\"string is palindrome\")\n",
    "else:\n",
    "    print(\"string is not palindrome\")"
   ]
  },
  {
   "cell_type": "code",
   "execution_count": 3,
   "metadata": {
    "collapsed": false
   },
   "outputs": [
    {
     "name": "stdout",
     "output_type": "stream",
     "text": [
      "Enter a value a: 1\n",
      "Enter a value b: 1\n",
      "Enter a value c: 1\n",
      "not valid equation\n"
     ]
    }
   ],
   "source": [
    "# solution given by quadratic formuala.\n",
    "a = int(input(\"Enter a value a: \"))\n",
    "b = int(input(\"Enter a value b: \"))   \n",
    "c = int(input(\"Enter a value c: \"))\n",
    "\n",
    "x = (b*b)-(4*a*c)\n",
    "if x >= 0:\n",
    "    x =  x**0.5\n",
    "    d = (-b + x)/ 2*a  \n",
    "    print(d)\n",
    "else:\n",
    "    print(\"not valid equation\")\n"
   ]
  },
  {
   "cell_type": "code",
   "execution_count": 4,
   "metadata": {
    "collapsed": false
   },
   "outputs": [
    {
     "name": "stdout",
     "output_type": "stream",
     "text": [
      "Enter a value a: 12\n",
      "Enter a value b: 34\n",
      "Enter a value c: 1\n",
      "-4.280196274881135\n"
     ]
    }
   ],
   "source": [
    "a = int(input(\"Enter a value a: \"))\n",
    "b = int(input(\"Enter a value b: \"))   \n",
    "c = int(input(\"Enter a value c: \"))\n",
    "\n",
    "x = (b*b)-(4*a*c)\n",
    "if x >= 0:\n",
    "    x =  x**0.5\n",
    "    d = (-b + x)/ 2*a  \n",
    "    print(d)\n",
    "else:\n",
    "    print(\"not valid equation\")"
   ]
  },
  {
   "cell_type": "code",
   "execution_count": 17,
   "metadata": {
    "collapsed": false
   },
   "outputs": [
    {
     "name": "stdout",
     "output_type": "stream",
     "text": [
      " Enter an Inflation rate: 72\n",
      "double in each year 1.0\n",
      " Enter an Inflation rate: 6\n",
      "double in each year 12.0\n",
      " Enter an Inflation rate: 12\n",
      "double in each year 6.0\n",
      " Enter an Inflation rate: 5\n",
      "double in each year 14.4\n",
      " Enter an Inflation rate: 23\n",
      "double in each year 3.130434782608696\n"
     ]
    }
   ],
   "source": [
    "# Rule of 72\n",
    "for row in range(1,6):\n",
    "    r = int(input(\" Enter an Inflation rate: \"))\n",
    "    a = 72/r\n",
    "    print(\"double in each year\", a)\n",
    "    "
   ]
  },
  {
   "cell_type": "code",
   "execution_count": 27,
   "metadata": {
    "collapsed": false,
    "scrolled": true
   },
   "outputs": [
    {
     "name": "stdout",
     "output_type": "stream",
     "text": [
      " Enter an amount of the loan: 18000\n",
      " Enter an interest rate : 5.25\n",
      " Enter the duaration of month: 60\n",
      "Monthly Payment 9407.64534268093\n",
      "total interest paid 29038.22671340465\n"
     ]
    }
   ],
   "source": [
    "# Car Loan\n",
    "a = eval(input(\" Enter an amount of the loan: \"))\n",
    "b = eval(input(\" Enter an interest rate : \"))\n",
    "c = eval(input(\" Enter the duaration of month: \"))\n",
    "\n",
    "if a > 0 :\n",
    "    c = (c / 12)\n",
    "    b = b/12\n",
    "    e = ((1+b)**(-c))\n",
    "    e = 1-e\n",
    "    f = a*b/e\n",
    "    print(\"Monthly Payment\", f)\n",
    "\n",
    "    y = g*(f)-a\n",
    "\n",
    "    print(\"total interest paid\",y )\n",
    "\n",
    "    \n",
    "else:\n",
    "    print(\"Enter valid data\")\n"
   ]
  },
  {
   "cell_type": "markdown",
   "metadata": {},
   "source": [
    "# Testing valid data case"
   ]
  },
  {
   "cell_type": "code",
   "execution_count": 24,
   "metadata": {
    "collapsed": false
   },
   "outputs": [
    {
     "name": "stdout",
     "output_type": "stream",
     "text": [
      " Enter an amount of the loan: 0\n",
      " Enter an interest rate : 14\n",
      " Enter the duaration of month: 23\n",
      "Enter valid data\n"
     ]
    }
   ],
   "source": [
    "a = eval(input(\" Enter an amount of the loan: \"))\n",
    "b = eval(input(\" Enter an interest rate : \"))\n",
    "c = eval(input(\" Enter the duaration of month: \"))\n",
    "\n",
    "if a > 0 :\n",
    "    g = (c / 12)\n",
    "    e = 1-((1+b)**(-g))\n",
    "    f = a*b/e\n",
    "    print(\"Monthly Payment\", f)\n",
    "\n",
    "    y = g*(f)-a\n",
    "\n",
    "    print(\"total interest paid\",y )\n",
    "\n",
    "    \n",
    "else:\n",
    "    print(\"Enter valid data\")"
   ]
  },
  {
   "cell_type": "code",
   "execution_count": null,
   "metadata": {
    "collapsed": true
   },
   "outputs": [],
   "source": [
    "\n",
    "    \n",
    "    "
   ]
  }
 ],
 "metadata": {
  "anaconda-cloud": {},
  "kernelspec": {
   "display_name": "Python [Root]",
   "language": "python",
   "name": "Python [Root]"
  },
  "language_info": {
   "codemirror_mode": {
    "name": "ipython",
    "version": 3
   },
   "file_extension": ".py",
   "mimetype": "text/x-python",
   "name": "python",
   "nbconvert_exporter": "python",
   "pygments_lexer": "ipython3",
   "version": "3.5.3"
  }
 },
 "nbformat": 4,
 "nbformat_minor": 0
}
