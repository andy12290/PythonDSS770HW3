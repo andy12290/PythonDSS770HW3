{
 "cells": [
  {
   "cell_type": "markdown",
   "metadata": {},
   "source": [
    "* Name : Aniket Kale\n",
    "* DSS770 Python Programming    "
   ]
  },
  {
   "cell_type": "markdown",
   "metadata": {},
   "source": [
    "# Pages 127 to 136; Odd examples"
   ]
  },
  {
   "cell_type": "code",
   "execution_count": 1,
   "metadata": {
    "collapsed": false
   },
   "outputs": [
    {
     "data": {
      "text/plain": [
       "range(2, 14, 4)"
      ]
     },
     "execution_count": 1,
     "metadata": {},
     "output_type": "execute_result"
    }
   ],
   "source": [
    "range(2,14,4)"
   ]
  },
  {
   "cell_type": "code",
   "execution_count": 2,
   "metadata": {
    "collapsed": false
   },
   "outputs": [
    {
     "name": "stdout",
     "output_type": "stream",
     "text": [
      "[1, 2, 3, 4, 5]\n"
     ]
    }
   ],
   "source": [
    "print(list(range(1,6)))"
   ]
  },
  {
   "cell_type": "code",
   "execution_count": 3,
   "metadata": {
    "collapsed": false
   },
   "outputs": [
    {
     "name": "stdout",
     "output_type": "stream",
     "text": [
      "1\n",
      "2\n",
      "3\n",
      "4\n",
      "5\n"
     ]
    }
   ],
   "source": [
    "# we can see the iteration of range.\n",
    "for row in range(1,6):\n",
    "    print(row)"
   ]
  },
  {
   "cell_type": "code",
   "execution_count": 4,
   "metadata": {
    "collapsed": false
   },
   "outputs": [
    {
     "data": {
      "text/plain": [
       "range(0, 5)"
      ]
     },
     "execution_count": 4,
     "metadata": {},
     "output_type": "execute_result"
    }
   ],
   "source": [
    "range(5)"
   ]
  },
  {
   "cell_type": "code",
   "execution_count": 5,
   "metadata": {
    "collapsed": false
   },
   "outputs": [
    {
     "name": "stdout",
     "output_type": "stream",
     "text": [
      "0 1 2 3 4 5 6 "
     ]
    }
   ],
   "source": [
    "n = 7\n",
    "for i in range(n):\n",
    "    print(i, end = \" \")\n",
    "    n = 3"
   ]
  },
  {
   "cell_type": "code",
   "execution_count": 6,
   "metadata": {
    "collapsed": false
   },
   "outputs": [
    {
     "data": {
      "text/plain": [
       "[4, 9, 14, 19]"
      ]
     },
     "execution_count": 6,
     "metadata": {},
     "output_type": "execute_result"
    }
   ],
   "source": [
    "# disply the output\n",
    "list(range(4,24,5))"
   ]
  },
  {
   "cell_type": "code",
   "execution_count": 7,
   "metadata": {
    "collapsed": false
   },
   "outputs": [
    {
     "data": {
      "text/plain": [
       "[-18, -19, -20, -21]"
      ]
     },
     "execution_count": 7,
     "metadata": {},
     "output_type": "execute_result"
    }
   ],
   "source": [
    "list1 = list(range(-18, -22,-1))\n",
    "list1"
   ]
  },
  {
   "cell_type": "code",
   "execution_count": 8,
   "metadata": {
    "collapsed": false
   },
   "outputs": [
    {
     "data": {
      "text/plain": [
       "[14, 17, 20, 23, 26, 29]"
      ]
     },
     "execution_count": 8,
     "metadata": {},
     "output_type": "execute_result"
    }
   ],
   "source": [
    "list(range(14,30,3))"
   ]
  },
  {
   "cell_type": "markdown",
   "metadata": {},
   "source": [
    "# RANGE(START, STOP, STEP)"
   ]
  },
  {
   "cell_type": "code",
   "execution_count": 9,
   "metadata": {
    "collapsed": false
   },
   "outputs": [
    {
     "name": "stdout",
     "output_type": "stream",
     "text": [
      "Pass #1\n",
      "Pass #2\n",
      "Pass #3\n",
      "Pass #4\n"
     ]
    }
   ],
   "source": [
    "for i in range(1,5):\n",
    "    print(\"Pass #\" + str(i))"
   ]
  },
  {
   "cell_type": "code",
   "execution_count": 10,
   "metadata": {
    "collapsed": false
   },
   "outputs": [
    {
     "name": "stdout",
     "output_type": "stream",
     "text": [
      "5\n",
      "6\n",
      "7\n"
     ]
    }
   ],
   "source": [
    "num = 5\n",
    "for i in range(num, 2*num -2):\n",
    "    print(i)"
   ]
  },
  {
   "cell_type": "code",
   "execution_count": 11,
   "metadata": {
    "collapsed": false
   },
   "outputs": [
    {
     "name": "stdout",
     "output_type": "stream",
     "text": [
      "10\n",
      "what do we appreciate ?\n",
      "12\n",
      "what do we appreciate ?\n",
      "14\n",
      "what do we appreciate ?\n",
      "16\n",
      "what do we appreciate ?\n",
      "18\n",
      "what do we appreciate ?\n"
     ]
    }
   ],
   "source": [
    "for i in range(10, 20, 2):\n",
    "    print(i)\n",
    "    print(\"what do we appreciate ?\")"
   ]
  },
  {
   "cell_type": "code",
   "execution_count": 12,
   "metadata": {
    "collapsed": false
   },
   "outputs": [
    {
     "name": "stdout",
     "output_type": "stream",
     "text": [
      "0\n"
     ]
    }
   ],
   "source": [
    "num_of_sib = 0\n",
    "word = \"startgazer\"\n",
    "for row in word:\n",
    "    if (row == \"s\") and (row == \"r\"):\n",
    "        num_of_sib +=1\n",
    "print(num_of_sib)        "
   ]
  },
  {
   "cell_type": "code",
   "execution_count": 13,
   "metadata": {
    "collapsed": false
   },
   "outputs": [
    {
     "name": "stdout",
     "output_type": "stream",
     "text": [
      "n\n"
     ]
    }
   ],
   "source": [
    "for row in \"python\":\n",
    "    continue\n",
    "print(row)    "
   ]
  },
  {
   "cell_type": "code",
   "execution_count": 14,
   "metadata": {
    "collapsed": false
   },
   "outputs": [
    {
     "name": "stdout",
     "output_type": "stream",
     "text": [
      "4 20\n"
     ]
    }
   ],
   "source": [
    "num_of_even  = 0\n",
    "sum_of_even = 0\n",
    "list1 = [2,5,4,8,6,1,3,9]\n",
    "for num in list1:\n",
    "    if num % 2 == 0:\n",
    "        num_of_even += 1\n",
    "        sum_of_even += num\n",
    "print(num_of_even, sum_of_even)        "
   ]
  },
  {
   "cell_type": "code",
   "execution_count": 15,
   "metadata": {
    "collapsed": false
   },
   "outputs": [
    {
     "name": "stdout",
     "output_type": "stream",
     "text": [
      "6\n",
      "10\n",
      "7\n",
      "6\n",
      "12\n",
      "6\n"
     ]
    }
   ],
   "source": [
    "list1 = [\"Aniket\", \"aniketkale\", \"devidas\", \"rashin\", \"Unitedstates\"]\n",
    "minletters = 100\n",
    "for row in list1:\n",
    "    print(len(row))\n",
    "    if len(row) < minletters:\n",
    "         minletters = len(row)\n",
    "print(minletters)        "
   ]
  },
  {
   "cell_type": "code",
   "execution_count": 16,
   "metadata": {
    "collapsed": false
   },
   "outputs": [
    {
     "name": "stdout",
     "output_type": "stream",
     "text": [
      "rashin\n"
     ]
    }
   ],
   "source": [
    "list1 = [1, 2, 4, \"rashin\", \"Unitedstates\"]\n",
    "for item in list1:\n",
    "    if isinstance(item,str):\n",
    "        break\n",
    "print(item)        "
   ]
  },
  {
   "cell_type": "code",
   "execution_count": 17,
   "metadata": {
    "collapsed": false
   },
   "outputs": [
    {
     "name": "stdout",
     "output_type": "stream",
     "text": [
      "18\n"
     ]
    }
   ],
   "source": [
    "# Reading Text file and processing it for further operation\n",
    "sumeven = 0\n",
    "infile = open(\"Numbers(2).txt\", 'r')\n",
    "for line in infile:\n",
    "    if eval(line) % 2 == 0:\n",
    "        sumeven += eval(line)   \n",
    "print(sumeven)\n",
    "infile.close()"
   ]
  },
  {
   "cell_type": "code",
   "execution_count": 18,
   "metadata": {
    "collapsed": false
   },
   "outputs": [
    {
     "name": "stdout",
     "output_type": "stream",
     "text": [
      "North Carolina\n",
      "North Dakota\n"
     ]
    }
   ],
   "source": [
    "infile = open(\"States(2).txt\", 'r')\n",
    "for line in infile:\n",
    "    if line.startswith(\"North\"):\n",
    "        print(line, end = \"\")        "
   ]
  },
  {
   "cell_type": "code",
   "execution_count": 19,
   "metadata": {
    "collapsed": false
   },
   "outputs": [
    {
     "name": "stdout",
     "output_type": "stream",
     "text": [
      "[2, 4, 3, 5]\n"
     ]
    }
   ],
   "source": [
    "# copy past function from one list to antother\n",
    "list1 = [2,4,3,5]\n",
    "list2 = []\n",
    "for row in list1:\n",
    "    if row not in list2:\n",
    "        list2.append(row)\n",
    "print(list2)        "
   ]
  },
  {
   "cell_type": "code",
   "execution_count": 20,
   "metadata": {
    "collapsed": false
   },
   "outputs": [
    {
     "name": "stdout",
     "output_type": "stream",
     "text": [
      "1,2,3,4,5,6,7,8,9,10,11,12,14,15,16,17,18,19,"
     ]
    }
   ],
   "source": [
    "for i in range(1,20):\n",
    "    if i  != 13:\n",
    "        print(i, end = \",\")"
   ]
  },
  {
   "cell_type": "code",
   "execution_count": 21,
   "metadata": {
    "collapsed": false
   },
   "outputs": [
    {
     "name": "stdout",
     "output_type": "stream",
     "text": [
      "1\n",
      "3\n",
      "5\n",
      "7\n"
     ]
    }
   ],
   "source": [
    "num = 1\n",
    "while num < 9 :\n",
    "    print(num)\n",
    "    num +=2"
   ]
  },
  {
   "cell_type": "code",
   "execution_count": 22,
   "metadata": {
    "collapsed": false
   },
   "outputs": [
    {
     "name": "stdout",
     "output_type": "stream",
     "text": [
      "Amount of cobalt after five Year in Gm 5.277319168\n"
     ]
    }
   ],
   "source": [
    "# used for loop for five year\n",
    "n = 10\n",
    "for row in range(0,5):\n",
    "    n = n - (n*0.12)    \n",
    "print(\"Amount of cobalt after five Year in Gm\",n)                 "
   ]
  },
  {
   "cell_type": "code",
   "execution_count": 23,
   "metadata": {
    "collapsed": false
   },
   "outputs": [
    {
     "name": "stdout",
     "output_type": "stream",
     "text": [
      "Enter a string :aniket\n",
      "3\n"
     ]
    }
   ],
   "source": [
    "# Only count the vowels\n",
    "inp = input(\"Enter a string :\")\n",
    "count = 0\n",
    "v = [\"a\", \"o\", \"i\", \"e\", \"u\"]\n",
    "for row in inp:\n",
    "    for line in v:\n",
    "        if row == line:\n",
    "             count += 1\n",
    "print(count)        "
   ]
  },
  {
   "cell_type": "code",
   "execution_count": 24,
   "metadata": {
    "collapsed": false
   },
   "outputs": [
    {
     "name": "stdout",
     "output_type": "stream",
     "text": [
      "198\n"
     ]
    }
   ],
   "source": [
    "for row in range(1,100):\n",
    "     row += row\n",
    "print(row)        "
   ]
  },
  {
   "cell_type": "code",
   "execution_count": 25,
   "metadata": {
    "collapsed": false
   },
   "outputs": [
    {
     "name": "stdout",
     "output_type": "stream",
     "text": [
      "Enter age:23\n",
      "Enter salary:1000\n",
      "Each year salary1026.45\n",
      "Each year salary1027.6\n",
      "Each year salary1028.75\n",
      "Each year salary1029.9\n",
      "Each year salary1031.05\n",
      "Each year salary1032.2\n",
      "Each year salary1033.35\n",
      "Each year salary1034.5\n",
      "Each year salary1035.65\n",
      "Each year salary1036.8\n",
      "Each year salary1037.95\n",
      "Each year salary1039.1\n",
      "Each year salary1040.25\n",
      "Each year salary1041.4\n",
      "Each year salary1042.55\n",
      "Each year salary1043.7\n",
      "Each year salary1044.85\n",
      "Each year salary1046.0\n",
      "Each year salary1047.15\n",
      "Salary after42 Years 1047.15\n"
     ]
    }
   ],
   "source": [
    "age = eval(input(\"Enter age:\"))\n",
    "exp = 65- age\n",
    "salary = eval(input(\"Enter salary:\"))\n",
    "if salary > 0:\n",
    "    for row in range(age, exp):\n",
    "        s = (1.15*row) + salary\n",
    "        print(\"Each year salary\" + str(s))\n",
    "print(\"Salary after\" + str(exp) + \" Years \"+ str(s) )       "
   ]
  },
  {
   "cell_type": "raw",
   "metadata": {},
   "source": [
    "grade = eval(input(\"Enter a grade :\"))\n",
    "while True:\n",
    "    if grade > 0:\n",
    "        grade1 = eval(input(\"Enter a grade1 :\"))\n",
    "        if grade1 > 0:\n",
    "            grade2 = eval(input(\"Enter a grade1 :\"))\n",
    "            grade = (grade1+grade2+grade)/3\n",
    "print(grade)        "
   ]
  },
  {
   "cell_type": "code",
   "execution_count": 27,
   "metadata": {
    "collapsed": false
   },
   "outputs": [
    {
     "name": "stdout",
     "output_type": "stream",
     "text": [
      "enter quantity80\n",
      "Year of 2014 price and quantity 12.0 50.0\n",
      "enter quantity100\n",
      "Year of 2015 price and quantity 10.0 40.0\n",
      "enter quantity200\n",
      "Year of 2016 price and quantity 0.0 -10.0\n",
      "enter quantity300\n",
      "Year of 2017 price and quantity -10.0 -60.0\n",
      "enter quantity100\n",
      "Year of 2018 price and quantity 10.0 40.0\n",
      "10.0 40.0\n"
     ]
    }
   ],
   "source": [
    "\n",
    "for row in range(2014,2019):\n",
    "    quantity = float(input(\"enter quantity\"))\n",
    "    if quantity > 0:\n",
    "        price = 20 - (0.1*(quantity))\n",
    "        q = 5*(price)-10\n",
    "        print(\"Year of \" + str(row) + \" price and quantity\", price, q)\n",
    "print(price,q)    "
   ]
  },
  {
   "cell_type": "markdown",
   "metadata": {},
   "source": [
    " "
   ]
  },
  {
   "cell_type": "code",
   "execution_count": 48,
   "metadata": {
    "collapsed": false
   },
   "outputs": [
    {
     "name": "stdout",
     "output_type": "stream",
     "text": [
      "Option 1 earn at the end of 10 year 30000\n",
      "Option 2 earn at the end of 10 year 25000\n"
     ]
    }
   ],
   "source": [
    "a = 20000\n",
    "b = 10000\n",
    "for item in range(1,11):\n",
    "    c = a + 1000*item\n",
    "    b = a + 500*item    \n",
    "print(\"Option 1 earn at the end of 10 year\", c) \n",
    "print(\"Option 2 earn at the end of 10 year\", b)"
   ]
  },
  {
   "cell_type": "code",
   "execution_count": 74,
   "metadata": {
    "collapsed": false
   },
   "outputs": [
    {
     "name": "stdout",
     "output_type": "stream",
     "text": [
      "24\n"
     ]
    }
   ],
   "source": [
    "infile = open(\"Final(1).txt\", 'r')\n",
    "count = 0\n",
    "for row in infile:\n",
    "    if row > \"0\":\n",
    "        count += 1\n",
    "print(count)"
   ]
  },
  {
   "cell_type": "code",
   "execution_count": 93,
   "metadata": {
    "collapsed": false
   },
   "outputs": [
    {
     "name": "stdout",
     "output_type": "stream",
     "text": [
      "0\n",
      "percentage 0.0\n",
      "average 83.25\n"
     ]
    }
   ],
   "source": [
    "infile = open(\"Final(1).txt\", 'r')\n",
    "sum1 = 0\n",
    "count = 24\n",
    "for row in infile:\n",
    "    row = int(row)\n",
    "    sum1 = sum1 + row\n",
    "avg = sum1/count\n",
    "c = 0\n",
    "if row > avg:\n",
    "    c += 0\n",
    "print(c)\n",
    "print(\"percentage\", c/24)                \n",
    "print(\"average\", avg)"
   ]
  },
  {
   "cell_type": "code",
   "execution_count": 103,
   "metadata": {
    "collapsed": false
   },
   "outputs": [
    {
     "name": "stdout",
     "output_type": "stream",
     "text": [
      "enter a sentence:anir\n",
      "anir\n",
      "anir\n",
      "anir\n"
     ]
    }
   ],
   "source": [
    "a = input(\"enter a sentence:\")\n",
    "for row in a:\n",
    "    if row != \"r\":\n",
    "        print(a)\n",
    "    else:\n",
    "      break  "
   ]
  },
  {
   "cell_type": "code",
   "execution_count": null,
   "metadata": {
    "collapsed": true
   },
   "outputs": [],
   "source": []
  },
  {
   "cell_type": "code",
   "execution_count": null,
   "metadata": {
    "collapsed": true
   },
   "outputs": [],
   "source": []
  }
 ],
 "metadata": {
  "anaconda-cloud": {},
  "kernelspec": {
   "display_name": "Python [Root]",
   "language": "python",
   "name": "Python [Root]"
  },
  "language_info": {
   "codemirror_mode": {
    "name": "ipython",
    "version": 3
   },
   "file_extension": ".py",
   "mimetype": "text/x-python",
   "name": "python",
   "nbconvert_exporter": "python",
   "pygments_lexer": "ipython3",
   "version": "3.5.3"
  }
 },
 "nbformat": 4,
 "nbformat_minor": 0
}
